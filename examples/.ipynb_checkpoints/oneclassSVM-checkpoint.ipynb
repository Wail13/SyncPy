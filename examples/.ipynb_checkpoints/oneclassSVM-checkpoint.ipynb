{
 "cells": [
  {
   "cell_type": "code",
   "execution_count": 23,
   "metadata": {
    "collapsed": true
   },
   "outputs": [],
   "source": [
    "### This file is a part of the Syncpy library.\n",
    "### Copyright 2015, ISIR / Universite Pierre et Marie Curie (UPMC)\n",
    "### Main contributor(s): Giovanna Varni, Marie Avril, ELBANI Wail\n",
    "### syncpy@isir.upmc.fr\n",
    "### \n",
    "### This software is a computer program whose for investigating\n",
    "### synchrony in a fast and exhaustive way. \n",
    "### \n",
    "### This software is governed by the CeCILL-B license under French law\n",
    "### and abiding by the rules of distribution of free software.  You\n",
    "### can use, modify and/ or redistribute the software under the terms\n",
    "### of the CeCILL-B license as circulated by CEA, CNRS and INRIA at the\n",
    "### following URL \"http://www.cecill.info\".\n",
    "\n",
    "### As a counterpart to the access to the source code and rights to\n",
    "### copy, modify and redistribute granted by the license, users are\n",
    "### provided only with a limited warranty and the software's author,\n",
    "### the holder of the economic rights, and the successive licensors\n",
    "### have only limited liability.\n",
    "### \n",
    "### In this respect, the user's attention is drawn to the risks\n",
    "### associated with loading, using, modifying and/or developing or\n",
    "### reproducing the software by the user in light of its specific\n",
    "### status of free software, that may mean that it is complicated to\n",
    "### manipulate, and that also therefore means that it is reserved for\n",
    "### developers and experienced professionals having in-depth computer\n",
    "### knowledge. Users are therefore encouraged to load and test the\n",
    "### software's suitability as regards their requirements in conditions\n",
    "### enabling the security of their systems and/or data to be ensured\n",
    "### and, more generally, to use and operate it in the same conditions\n",
    "### as regards security.\n",
    "### \n",
    "### The fact that you are presently reading this means that you have\n",
    "### had knowledge of the CeCILL-B license and that you accept its terms."
   ]
  },
  {
   "cell_type": "code",
   "execution_count": 2,
   "metadata": {
    "collapsed": false
   },
   "outputs": [
    {
     "name": "stderr",
     "output_type": "stream",
     "text": [
      "C:\\ProgramData\\Anaconda3\\envs\\SyncPy\\lib\\site-packages\\sklearn\\cross_validation.py:44: DeprecationWarning: This module was deprecated in version 0.18 in favor of the model_selection module into which all the refactored classes and functions are moved. Also note that the interface of the new CV iterators are different from that of this module. This module will be removed in 0.20.\n",
      "  \"This module will be removed in 0.20.\", DeprecationWarning)\n"
     ]
    }
   ],
   "source": [
    "from sklearn import svm\n",
    "import matplotlib.pyplot as plt\n",
    "from sklearn.cross_validation import KFold\n",
    "from sklearn.cluster import KMeans\n",
    "from sklearn import preprocessing\n",
    "from sklearn import metrics\n",
    "from time import time\n",
    "import numpy as np \n",
    "import pandas as pd\n",
    "import sys, os\n"
   ]
  },
  {
   "cell_type": "markdown",
   "metadata": {},
   "source": [
    "## Plot the reccurence matrix"
   ]
  },
  {
   "cell_type": "code",
   "execution_count": 28,
   "metadata": {
    "collapsed": false
   },
   "outputs": [],
   "source": [
    "    def plot_result(interpol='nearest'):\n",
    "        \"\"\"\n",
    "        This method is not fully functional. it is used for test purposes only\n",
    "        \"\"\"\n",
    "        x=[]\n",
    "        y=[]\n",
    "        plt.rcParams.update(plt.rcParamsDefault)\n",
    "\n",
    "        for index, v in np.ndenumerate(self.res[0]):\n",
    "            if v==1:\n",
    "                x.append(index[0])\n",
    "                y.append(index[1])\n",
    "        \n",
    "        H, xedges, yedges = np.histogram2d(x, y, normed=True)\n",
    "        extent = [yedges[0], yedges[-1], xedges[-1], xedges[0]]\n",
    "        plt.imshow(H, extent=extent, interpolation=interpol)\n",
    "        plt.gca().invert_yaxis()\n",
    "        plt.show()\n",
    "        \n",
    "        \n",
    "    def plot_result2(Dij,threshold=0.01,w=200):   \n",
    "        min_max_scaler = preprocessing.MinMaxScaler(feature_range=(0, 1))\n",
    "        DijS = min_max_scaler.fit_transform(Dij)\n",
    "        RijS= np.where(DijS - threshold < 0, 1, 0) \n",
    "        for i in range(RijS.shape[0]):\n",
    "            for j in range(RijS.shape[1]):\n",
    "                if not(j>=i-w and j<=i+w):\n",
    "                    RijS[i][j] =0\n",
    "        fig=plt.figure()             \n",
    "        plt.imshow(RijS,cmap='Reds',  interpolation='nearest')\n",
    "        plt.gca().invert_yaxis()\n",
    "        plt.xlabel('frames')\n",
    "        plt.ylabel('frames')\n",
    "        plt.show()\n",
    "     \n",
    "        "
   ]
  },
  {
   "cell_type": "markdown",
   "metadata": {},
   "source": [
    "## Loading STIP data"
   ]
  },
  {
   "cell_type": "code",
   "execution_count": 4,
   "metadata": {
    "collapsed": false
   },
   "outputs": [
    {
     "name": "stdout",
     "output_type": "stream",
     "text": [
      "################ loading data ######################\n",
      "DATA SHAPE(10452, 162)\n",
      "       hgf0      hgf1      hgf2      hgf3      hgf4      hgf5      hgf6  \\\n",
      "0  0.970961  0.000000  0.000000  0.029039  0.450444  0.000000  0.167810   \n",
      "1  1.000000  0.000000  0.000000  0.000000  0.748810  0.005761  0.051104   \n",
      "2  0.518194  0.229135  0.039248  0.213423  0.425319  0.257645  0.173135   \n",
      "3  0.984047  0.000000  0.000000  0.015953  0.697598  0.000000  0.034941   \n",
      "4  0.772069  0.142789  0.010936  0.074205  0.959708  0.027886  0.000592   \n",
      "\n",
      "       hgf7      hgf8      hgf9    ...       hgf152    hgf153    hgf154  \\\n",
      "0  0.381747  0.266640  0.000000    ...     0.485207  0.005072  0.000000   \n",
      "1  0.194325  0.653199  0.003206    ...     0.735450  0.000000  0.000000   \n",
      "2  0.143901  0.349560  0.078921    ...     0.862215  0.000000  0.000000   \n",
      "3  0.267461  0.920963  0.002877    ...     0.106509  0.000000  0.000000   \n",
      "4  0.011814  0.905663  0.092930    ...     0.182587  0.000000  0.038039   \n",
      "\n",
      "     hgf155    hgf156    hgf157    hgf158   hgf159    hgf160    hgf161  \n",
      "0  0.390533  0.119189  0.653846  0.024655  0.00000  0.231755  0.089744  \n",
      "1  0.209436  0.055115  0.776235  0.020576  0.00000  0.131173  0.072016  \n",
      "2  0.098056  0.039730  0.992110  0.000000  0.00000  0.003945  0.003945  \n",
      "3  0.771767  0.121724  0.569034  0.071992  0.00000  0.288955  0.070020  \n",
      "4  0.278107  0.501268  0.467456  0.009862  0.17357  0.103550  0.245562  \n",
      "\n",
      "[5 rows x 162 columns]\n"
     ]
    }
   ],
   "source": [
    "\"\"\"\n",
    " output: \n",
    "-data1: dataframe for the first videoc 'STIP' points\n",
    "-data2: dataframe for the second video 'STIP' points\n",
    "-hoghof: descriptor of both videos. We used a combination of  histogram of gradients and histogram of flow \n",
    "\"\"\"\n",
    "        \n",
    "print(\"################ loading data ######################\")\n",
    "        \n",
    "        \n",
    "        \n",
    "'loading the STIP into a panda dataframe'\n",
    "try:\n",
    "    data1=pd.read_csv('data/wail.txt',header=None, sep=r\"\\s+\",skiprows=3)\n",
    "    data2=pd.read_csv('data/jean.txt',header=None, sep=r\"\\s+\",skiprows=3)\n",
    "except IOError as e:\n",
    "    print('file not found')\n",
    "           \n",
    "            \n",
    "'drop useless columns'\n",
    "        \n",
    "data1.drop(data1.columns[[0,1,2,4,5,6]], axis=1, inplace=True)\n",
    "data2.drop(data2.columns[[0,1,2,4,5,6]], axis=1, inplace=True)\n",
    "        \n",
    "'columns names'\n",
    "        \n",
    "column=[\"hgf\"+str(i) for i in range(162)]\n",
    "column.insert(0,'frame')\n",
    "        \n",
    "'naming the columns'\n",
    "data1.columns=column\n",
    "data2.columns=column\n",
    "        \n",
    "' Working in the same frame range'\n",
    "data1=data1[(data1.frame>=max(min(data1.frame),min(data2.frame))) & (data1.frame<=min(max(data1.frame),max(data2.frame)))]\n",
    "data2=data2[(data2.frame>=max(min(data1.frame),min(data2.frame))) & (data2.frame<=min(max(data1.frame),max(data2.frame)))]\n",
    "        \n",
    "'merging the two dataframes'\n",
    "data=data1.append(data2,ignore_index=True)\n",
    "data=data.drop(['frame'],axis=1)\n",
    "\n",
    "print('DATA SHAPE'+str(data.shape))\n",
    "\n",
    "print(data.head())"
   ]
  },
  {
   "cell_type": "markdown",
   "metadata": {},
   "source": [
    "## Apply Kmean on data: create visual dictionary"
   ]
  },
  {
   "cell_type": "code",
   "execution_count": 5,
   "metadata": {
    "collapsed": false
   },
   "outputs": [
    {
     "name": "stdout",
     "output_type": "stream",
     "text": [
      "training  time for kmeans------:25.067433834075928\n",
      "silhouette ------:0.0699053454118\n"
     ]
    }
   ],
   "source": [
    "\"\"\"\n",
    " input:\n",
    "-data: hoghf descriptor\n",
    "-K: the size of the dictionary\n",
    "output:\n",
    "-Kmean classifier\n",
    "descrition: apply Kmeans\n",
    "\"\"\"\n",
    "K=64\n",
    "t0 = time()\n",
    "kmean= KMeans(init='k-means++', n_clusters=K, n_init=10) \n",
    "kmean.fit(data)\n",
    "t=time()\n",
    "print(\"training  time for kmeans------:\"+str(t-t0))\n",
    "print(\"silhouette ------:\"+str(metrics.silhouette_score(data, kmean.labels_,metric='euclidean')))\n"
   ]
  },
  {
   "cell_type": "markdown",
   "metadata": {},
   "source": [
    "## Generate histograms"
   ]
  },
  {
   "cell_type": "code",
   "execution_count": 6,
   "metadata": {
    "collapsed": true
   },
   "outputs": [],
   "source": [
    " def histograms(data,K,kmean):\n",
    "        \"\"\"\n",
    "        -input:\n",
    "            -data: hoghof descriptor\n",
    "            -number of principal component (comes from applying pca) \n",
    "            -K: number of words in the codebook or the codewords or visual vocabulary or K means number of clusters\n",
    "        \"\"\"\n",
    "        i=0\n",
    "        gbp=data\n",
    "        predclust=kmean.predict(preprocessing.scale(data.drop(['frame'],axis=1)))\n",
    "        gbp['pred']=predclust\n",
    "        gbp=gbp.groupby('frame')\n",
    "        train=np.zeros((len(gbp),K))\n",
    "        for name,group in gbp:\n",
    "            train[i][group.pred.values]=1\n",
    "            i+=1\n",
    "           \n",
    "         \n",
    "        return train\n",
    "    "
   ]
  },
  {
   "cell_type": "code",
   "execution_count": 7,
   "metadata": {
    "collapsed": false
   },
   "outputs": [
    {
     "name": "stdout",
     "output_type": "stream",
     "text": [
      "histograms that decribe wail action\n",
      "[[ 0.  0.  0. ...,  0.  1.  0.]\n",
      " [ 0.  0.  0. ...,  0.  0.  0.]\n",
      " [ 0.  0.  0. ...,  0.  1.  0.]\n",
      " ..., \n",
      " [ 0.  0.  0. ...,  0.  0.  0.]\n",
      " [ 0.  0.  0. ...,  0.  0.  0.]\n",
      " [ 0.  0.  0. ...,  0.  0.  0.]]\n",
      "histogram that describe jean action\n",
      "[[ 0.  0.  0. ...,  0.  0.  0.]\n",
      " [ 0.  0.  0. ...,  0.  0.  0.]\n",
      " [ 0.  0.  0. ...,  0.  0.  0.]\n",
      " ..., \n",
      " [ 0.  0.  0. ...,  0.  0.  0.]\n",
      " [ 0.  0.  0. ...,  0.  0.  0.]\n",
      " [ 0.  0.  0. ...,  0.  0.  0.]]\n"
     ]
    }
   ],
   "source": [
    "print('histograms that decribe wail action')\n",
    "h1=histograms(data1,K,kmean)\n",
    "print(h1)\n",
    "\n",
    "print('histogram that describe jean action')\n",
    "h2=histograms(data2,K,kmean)\n",
    "print(h2)\n",
    "\n",
    "\n",
    "\n",
    "\n"
   ]
  },
  {
   "cell_type": "markdown",
   "metadata": {},
   "source": [
    "## Training one-class SVM on histograms"
   ]
  },
  {
   "cell_type": "code",
   "execution_count": 8,
   "metadata": {
    "collapsed": true
   },
   "outputs": [],
   "source": [
    "    def OneSVM_predict(h,my_kernel):\n",
    "        nuu=Cross_validation(h)\n",
    "        print('nu coeficient is:    '+str(nuu))\n",
    "        onesvm = svm.OneClassSVM( kernel=my_kernel,nu=nuu)\n",
    "        onesvm.fit(h)\n",
    "        return onesvm\n",
    "    \n",
    "    def Cross_validation(h):\n",
    "        n_folds=4\n",
    "        nu=np.linspace(0.001, 1, 1000)\n",
    "        results=[]\n",
    "        for d in nu:\n",
    "            onesvm = svm.OneClassSVM( kernel=my_kernel, nu=d)\n",
    "            hypothesisresults=[]\n",
    "            for train, test in KFold(len(h), n_folds):\n",
    "                onesvm.fit(h[train]) # fit\n",
    "                hypothesisresults.append(np.mean(onesvm.predict(h[test])==1))\n",
    "            \n",
    "            results.append(np.mean(hypothesisresults))\n",
    "        \n",
    "        \n",
    "        \n",
    "        return nu[np.argmax(results)]\n",
    "    \n",
    "    \n",
    "    def my_kernel(X,Y):\n",
    "    \n",
    "        return X.dot(Y.T)"
   ]
  },
  {
   "cell_type": "code",
   "execution_count": 9,
   "metadata": {
    "collapsed": false
   },
   "outputs": [
    {
     "name": "stdout",
     "output_type": "stream",
     "text": [
      "####### Training one SVM #########\n",
      "nu coeficient is:    0.029\n",
      "nu coeficient is:    0.041\n"
     ]
    }
   ],
   "source": [
    "print('####### Training one SVM #########')\n",
    "svm1=OneSVM_predict(h1,my_kernel)\n",
    "svm2=OneSVM_predict(h2,my_kernel)\n"
   ]
  },
  {
   "cell_type": "markdown",
   "metadata": {},
   "source": [
    "## Similarity scores between Wail and Jean "
   ]
  },
  {
   "cell_type": "code",
   "execution_count": 12,
   "metadata": {
    "collapsed": false
   },
   "outputs": [
    {
     "name": "stdout",
     "output_type": "stream",
     "text": [
      "Model wail applied to jean\n",
      "[[  5.49921485e-01]\n",
      " [  5.49921485e-01]\n",
      " [  5.49921485e-01]\n",
      " ..., \n",
      " [  4.39947967e+00]\n",
      " [  5.09281487e-04]\n",
      " [  5.09281487e-04]]\n",
      "Model jean applied to wail\n",
      "[[  5.49921485e-01]\n",
      " [  5.49921485e-01]\n",
      " [  5.49921485e-01]\n",
      " ..., \n",
      " [  4.39947967e+00]\n",
      " [  5.09281487e-04]\n",
      " [  5.09281487e-04]]\n"
     ]
    }
   ],
   "source": [
    "Sab1=(svm1.decision_function(h2)-svm1.intercept_)\n",
    "Sab2=(svm2.decision_function(h1)-svm1.intercept_)\n",
    "print(\"Model wail applied to jean\")\n",
    "print(Sab1)\n",
    "print(\"Model jean applied to wail\")\n",
    "print(Sab1)\n"
   ]
  },
  {
   "cell_type": "markdown",
   "metadata": {},
   "source": [
    "### Calculating and ploting recurrence matrix"
   ]
  },
  {
   "cell_type": "code",
   "execution_count": 17,
   "metadata": {
    "collapsed": false
   },
   "outputs": [],
   "source": [
    " \"\"\"\n",
    "input:\n",
    "-h1,h2 histograms \n",
    "output:\n",
    "-Rij:Recurrence matrix\n",
    "-Dij:Raw Recurrence matrix (before applying the threshold)\n",
    "\"\"\"\n",
    "threshold=0.01 # \n",
    "\n",
    "Rij=np.zeros((h1.shape[0],h2.shape[0]))\n",
    "Dij=np.zeros((h1.shape[0],h2.shape[0]))\n",
    "      \n",
    "for i in range(h1.shape[0]):\n",
    "    for j in range(h2.shape[0]):\n",
    "        Rij[i][j]=np.where(np.square(Sab1[j]-Sab2[i])-threshold <0, 1, 0 )\n",
    "        Dij[i][j]= np.square(Sab1[j]-Sab2[i])\n",
    "                \n",
    "    \n"
   ]
  },
  {
   "cell_type": "code",
   "execution_count": 19,
   "metadata": {
    "collapsed": false
   },
   "outputs": [
    {
     "name": "stdout",
     "output_type": "stream",
     "text": [
      "recurrence matrix before applying threshold\n",
      "[[  1.45704744e-07   1.45704744e-07   1.45704744e-07 ...,   1.48161595e+01\n",
      "    3.02273350e-01   3.02273350e-01]\n",
      " [  1.63163185e-09   1.63163185e-09   1.63163185e-09 ...,   1.48187872e+01\n",
      "    3.01898156e-01   3.01898156e-01]\n",
      " [  2.86804613e+00   2.86804613e+00   2.86804613e+00 ...,   4.64845465e+00\n",
      "    5.03079274e+00   5.03079274e+00]\n",
      " ..., \n",
      " [  7.17068084e-01   7.17068084e-01   7.17068084e-01 ...,   9.01656437e+00\n",
      "    1.94940496e+00   1.94940496e+00]\n",
      " [  7.17098227e-01   7.17098227e-01   7.17098227e-01 ...,   9.01645749e+00\n",
      "    1.94945466e+00   1.94945466e+00]\n",
      " [  1.79568313e-01   1.79568313e-01   1.79568313e-01 ...,   1.17361274e+01\n",
      "    9.47054436e-01   9.47054436e-01]]\n"
     ]
    }
   ],
   "source": [
    "print(\"recurrence matrix before applying threshold\")\n",
    "print(Dij)"
   ]
  },
  {
   "cell_type": "code",
   "execution_count": 20,
   "metadata": {
    "collapsed": false
   },
   "outputs": [
    {
     "name": "stdout",
     "output_type": "stream",
     "text": [
      "recurrence matrix after applying threshold\n",
      "[[ 1.  1.  1. ...,  0.  0.  0.]\n",
      " [ 1.  1.  1. ...,  0.  0.  0.]\n",
      " [ 0.  0.  0. ...,  0.  0.  0.]\n",
      " ..., \n",
      " [ 0.  0.  0. ...,  0.  0.  0.]\n",
      " [ 0.  0.  0. ...,  0.  0.  0.]\n",
      " [ 0.  0.  0. ...,  0.  0.  0.]]\n"
     ]
    }
   ],
   "source": [
    "print(\"recurrence matrix after applying threshold\")\n",
    "print(Rij)"
   ]
  },
  {
   "cell_type": "code",
   "execution_count": 29,
   "metadata": {
    "collapsed": false
   },
   "outputs": [
    {
     "data": {
      "image/png": "[encoded data removed]",
      "text/plain": [
       "<matplotlib.figure.Figure at 0xe2c9dd8>"
      ]
     },
     "metadata": {},
     "output_type": "display_data"
    }
   ],
   "source": [
    "plot_result2(Dij,threshold=0.01,w=200)"
   ]
  }
 ],
 "metadata": {
  "kernelspec": {
   "display_name": "Python 3",
   "language": "python",
   "name": "python3"
  },
  "language_info": {
   "codemirror_mode": {
    "name": "ipython",
    "version": 3
   },
   "file_extension": ".py",
   "mimetype": "text/x-python",
   "name": "python",
   "nbconvert_exporter": "python",
   "pygments_lexer": "ipython3",
   "version": "3.5.2"
  }
 },
 "nbformat": 4,
 "nbformat_minor": 2
}
