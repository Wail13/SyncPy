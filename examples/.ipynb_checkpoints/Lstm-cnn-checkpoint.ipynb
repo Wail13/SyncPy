{
 "cells": [
  {
   "cell_type": "code",
   "execution_count": 2,
   "metadata": {
    "collapsed": true
   },
   "outputs": [],
   "source": [
    "### This software is a computer program whose for investigating\n",
    "### synchrony in a fast and exhaustive way. \n",
    "### \n",
    "### This software is governed by the CeCILL-B license under French law\n",
    "### and abiding by the rules of distribution of free software.  You\n",
    "### can use, modify and/ or redistribute the software under the terms\n",
    "### of the CeCILL-B license as circulated by CEA, CNRS and INRIA at the\n",
    "### following URL \"http://www.cecill.info\".\n",
    "\n",
    "### As a counterpart to the access to the source code and rights to\n",
    "### copy, modify and redistribute granted by the license, users are\n",
    "### provided only with a limited warranty and the software's author,\n",
    "### the holder of the economic rights, and the successive licensors\n",
    "### have only limited liability.\n",
    "### \n",
    "### In this respect, the user's attention is drawn to the risks\n",
    "### associated with loading, using, modifying and/or developing or\n",
    "### reproducing the software by the user in light of its specific\n",
    "### status of free software, that may mean that it is complicated to\n",
    "### manipulate, and that also therefore means that it is reserved for\n",
    "### developers and experienced professionals having in-depth computer\n",
    "### knowledge. Users are therefore encouraged to load and test the\n",
    "### software's suitability as regards their requirements in conditions\n",
    "### enabling the security of their systems and/or data to be ensured\n",
    "### and, more generally, to use and operate it in the same conditions\n",
    "### as regards security.\n",
    "### \n",
    "### The fact that you are presently reading this means that you have\n",
    "### had knowledge of the CeCILL-B license and that you accept its terms."
   ]
  },
  {
   "cell_type": "code",
   "execution_count": 1,
   "metadata": {
    "collapsed": false
   },
   "outputs": [
    {
     "name": "stderr",
     "output_type": "stream",
     "text": [
      "Using TensorFlow backend.\n"
     ]
    }
   ],
   "source": [
    "import pandas as pd\n",
    "import numpy as np\n",
    "from keras.callbacks import TensorBoard, ModelCheckpoint, EarlyStopping, CSVLogger\n",
    "import time\n",
    "from keras.layers import Dense, Flatten, Dropout,Activation  \n",
    "from keras.layers.recurrent import LSTM\n",
    "from keras.models import Sequential, load_model\n",
    "from keras.optimizers import *\n",
    "from keras.layers.wrappers import TimeDistributed\n",
    "from keras.layers.convolutional import (Conv2D, MaxPooling3D, Conv3D,\n",
    "    MaxPooling2D)\n",
    "from collections import deque\n",
    "import sys\n",
    "from keras import initializers\n",
    "import os    \n",
    "import keras\n",
    "from keras.wrappers.scikit_learn import KerasRegressor \n",
    "from sklearn.decomposition import PCA\n",
    "import matplotlib.pyplot as plt\n",
    "from sklearn import preprocessing\n",
    "from sklearn.model_selection import GridSearchCV\n",
    "from hyperopt import fmin, tpe, hp, Trials"
   ]
  },
  {
   "cell_type": "markdown",
   "metadata": {},
   "source": [
    "## Plot the reccurence matrix"
   ]
  },
  {
   "cell_type": "code",
   "execution_count": 4,
   "metadata": {
    "collapsed": false
   },
   "outputs": [],
   "source": [
    "def plot_result(interpol='nearest'):\n",
    "        \"\"\"\n",
    "        This method is not fully functional. it is used for test purposes only\n",
    "        \"\"\"\n",
    "        x=[]\n",
    "        y=[]\n",
    "        plt.rcParams.update(plt.rcParamsDefault)\n",
    "\n",
    "        for index, v in np.ndenumerate(self.res[0]):\n",
    "            if v==1:\n",
    "                x.append(index[0])\n",
    "                y.append(index[1])\n",
    "        \n",
    "        H, xedges, yedges = np.histogram2d(x, y, normed=True)\n",
    "        extent = [yedges[0], yedges[-1], xedges[-1], xedges[0]]\n",
    "        plt.imshow(H, extent=extent, interpolation=interpol)\n",
    "        plt.gca().invert_yaxis()\n",
    "        plt.show()\n",
    "        \n",
    "        \n",
    "def plot_result2(Dij,threshold=0.01,w=200):   \n",
    "        min_max_scaler = preprocessing.MinMaxScaler(feature_range=(0, 1))\n",
    "        DijS = min_max_scaler.fit_transform(Dij)\n",
    "        RijS= np.where(DijS - threshold < 0, 1, 0) \n",
    "        for i in range(RijS.shape[0]):\n",
    "            for j in range(RijS.shape[1]):\n",
    "                if not(j>=i-w and j<=i+w):\n",
    "                    RijS[i][j] =0\n",
    "        fig=plt.figure()             \n",
    "        plt.imshow(RijS,cmap='Reds',  interpolation='nearest')\n",
    "        plt.gca().invert_yaxis()\n",
    "        plt.xlabel('frames')\n",
    "        plt.ylabel('frames')\n",
    "        plt.show()\n",
    "     "
   ]
  },
  {
   "cell_type": "markdown",
   "metadata": {},
   "source": [
    "## Pre-processing data (CNN-features)"
   ]
  },
  {
   "cell_type": "code",
   "execution_count": 13,
   "metadata": {
    "collapsed": false
   },
   "outputs": [],
   "source": [
    "\n",
    "def applypca(data):\n",
    "    pca = PCA(n_components=2048)\n",
    "    X = pca.fit_transform(data)\n",
    "    expvar=pca.explained_variance_ratio_*100\n",
    "    for i in range(len(expvar)+1):\n",
    "            if sum(expvar[:i]) > 99:\n",
    "                var= sum(expvar[:i])\n",
    "                ncomponent=i\n",
    "                break\n",
    "        \n",
    "    print(\"######## Done applying PCA###############\")\n",
    "    print(\"Number of pc is:  \"+str(ncomponent))\n",
    "    return X,ncomponent\n",
    "\n",
    "\n",
    "def _load_data(data, n_prev = 12):  \n",
    "    docX, docY = [],[]\n",
    "    for i in range(len(data)-n_prev):\n",
    "        docX.append(data.iloc[i:i+n_prev].as_matrix())\n",
    "        docY.append(data.iloc[i+n_prev].as_matrix())\n",
    "    alsX = np.array(docX)\n",
    "    alsY = np.array(docY)\n",
    "\n",
    "    return alsX, alsY\n",
    "\n",
    "def train_test_split(df, test_size=0.1):  \n",
    "     ntrn = round(len(df) * (1 - test_size))\n",
    "     X_train, y_train = _load_data(df.iloc[0:ntrn])\n",
    "     X_test, y_test = _load_data(df.iloc[ntrn:])\n",
    "\n",
    "     return (X_train, y_train), (X_test, y_test)\n",
    "\n",
    "def scaleDataframe(df):\n",
    "        dataset = preprocessing.scale(df)\n",
    "        pcaData,ncomponenet=applypca(dataset)\n",
    "        df=pd.DataFrame(pcaData)\n",
    "        return df,ncomponenet\n",
    "\n",
    "def filters(pred):\n",
    "        predS=(np.square(pred))\n",
    "        S=np.sum(predS,axis=1)\n",
    "     \n",
    "        return S"
   ]
  },
  {
   "cell_type": "markdown",
   "metadata": {},
   "source": [
    "## Loading Data (CNN-features)"
   ]
  },
  {
   "cell_type": "code",
   "execution_count": 14,
   "metadata": {
    "collapsed": true
   },
   "outputs": [],
   "source": [
    " def loadingData(augment=3):\n",
    "        dfE=pd.read_csv('data\\\\cnn-features\\\\Wail.txt',header=None, sep=r\"\\s+\")\n",
    "        dfS=pd.read_csv('data\\\\cnn-features\\\\Jean.txt',header=None, sep=r\"\\s+\")\n",
    "            \n",
    "        dfPcaE,nc1=scaleDataframe(dfE)\n",
    "        dfPcaS,nc2=scaleDataframe(dfS)\n",
    "        nc=max(nc1,nc2)\n",
    "        dfe=dfPcaE.iloc[:,0:nc]\n",
    "        dfs=dfPcaS.iloc[:,0:nc]\n",
    "        for i in range(augment):\n",
    "            dfe=dfe.append(dfe)\n",
    "            dfs=dfs.append(dfs)\n",
    " \n",
    "        (XE_train, yE_train), (XE_test, yE_test) = train_test_split(dfe)  # retrieve data\n",
    "        (XS_train, yS_train), (XS_test, yS_test) = train_test_split(dfs)  # retrieve data\n",
    "             \n",
    "        return (XE_train, yE_train), (XE_test, yE_test),(XE_train, yE_train), (XE_test, yE_test)"
   ]
  },
  {
   "cell_type": "code",
   "execution_count": 15,
   "metadata": {
    "collapsed": false
   },
   "outputs": [
    {
     "name": "stdout",
     "output_type": "stream",
     "text": [
      "######## Done applying PCA###############\n",
      "Number of pc is:  404\n",
      "######## Done applying PCA###############\n",
      "Number of pc is:  418\n"
     ]
    }
   ],
   "source": [
    "(XE_train, yE_train), (XE_test, yE_test),(XS_train, yS_train), (XS_test, yS_test)=loadingData(augment=1)\n"
   ]
  },
  {
   "cell_type": "code",
   "execution_count": 26,
   "metadata": {
    "collapsed": false
   },
   "outputs": [
    {
     "name": "stdout",
     "output_type": "stream",
     "text": [
      "##### Wail training data #####\n",
      "(1966, 12, 418) (1966, 418)\n",
      "##### Jean training data #####\n",
      "(1966, 12, 418) (1966, 418)\n"
     ]
    }
   ],
   "source": [
    "print('##### Wail training data #####')\n",
    "print(XE_train.shape,yE_train.shape)\n",
    "print('##### Jean training data #####')\n",
    "print(XS_train.shape,yS_train.shape)"
   ]
  },
  {
   "cell_type": "markdown",
   "metadata": {},
   "source": [
    "## Model training"
   ]
  },
  {
   "cell_type": "markdown",
   "metadata": {},
   "source": [
    "### Keras model "
   ]
  },
  {
   "cell_type": "code",
   "execution_count": 29,
   "metadata": {
    "collapsed": false
   },
   "outputs": [],
   "source": [
    "def modelLSTM(name,Xtrain,Ytrain,hyeropt=False,learning_rate=0.0007, hidden_neurons=10,epoch=100,batch_size=400,validation_split=0.30\n",
    "                 ,in_out_neurons=418\n",
    "                ,dropout_rate=0.2,Shuffle=False,min_delta=0.01, patience=5):\n",
    "       #optimizer used\n",
    "        optimizer = Adam(lr=learning_rate, beta_1=0.9, beta_2=0.999, epsilon=1e-08, decay=0.0)\n",
    "        callback=[]\n",
    "    \n",
    "       #define the model\n",
    "        model = Sequential()\n",
    "        model.add(LSTM(hidden_neurons, return_sequences=False,\n",
    "               input_shape=(None, in_out_neurons), kernel_initializer='glorot_normal',dropout=dropout_rate))\n",
    "        model.add(Dropout(dropout_rate))\n",
    "        model.add(Dense(in_out_neurons, input_dim=hidden_neurons))  \n",
    "        model.add(Activation(\"linear\")) \n",
    "       \n",
    "       #load model best weight warm start\n",
    "        if  os.path.exists('modelCheckoint\\\\modelCheckpoint\\\\'+name+'.weights.best.hdf5') > 0 and not(hyeropt):\n",
    "            print('--------Loading weights----------')\n",
    "            model.load_weights('modelCheckoint\\\\modelCheckpoint\\\\'+name+'.weights.best.hdf5')\n",
    "           \n",
    "      \n",
    "        model.compile(loss=\"mean_squared_error\", optimizer=optimizer)\n",
    "        #early stopping\n",
    "        earlystopping=keras.callbacks.EarlyStopping(monitor='val_loss', min_delta=min_delta, patience=patience, verbose=1, mode='auto')\n",
    "        callback.append(earlystopping)\n",
    "        if not(hyeropt):\n",
    "           #model checkpoint\n",
    "           filepath='C:\\\\Users\\isir\\\\Desktop\\\\Imitation-LSTM\\\\modelCheckoint\\\\'+name+'.weights.best.hdf5'\n",
    "           ModelCheckpoint=keras.callbacks.ModelCheckpoint(filepath, monitor='val_loss', verbose=1, save_best_only=True, save_weights_only=True, mode='auto', period=1)\n",
    "#           tensorboard\n",
    "#           logdr='C:\\\\Users\\\\isir\\\\Desktop\\\\Imitation-LSTM\\\\logs\\\\log'+name\n",
    "#           tensorboard=keras.callbacks.TensorBoard(log_dir=logdr, histogram_freq=0, write_graph=True, write_images=False, embeddings_freq=0, embeddings_layer_names=None, embeddings_metadata=None)\n",
    "#           callback.append(tensorboard)\n",
    "#           callback.append(ModelCheckpoint)\n",
    "           \n",
    "         \n",
    "        hist=model.fit(Xtrain, Ytrain, epochs=epoch, batch_size=batch_size, verbose=2,validation_split=0.30,shuffle=Shuffle, callbacks=callback)\n",
    "                        \n",
    "        return model ,hist"
   ]
  },
  {
   "cell_type": "markdown",
   "metadata": {},
   "source": [
    "### Hyperparameter optimization using 'hyperopt' "
   ]
  },
  {
   "cell_type": "code",
   "execution_count": 31,
   "metadata": {
    "collapsed": false
   },
   "outputs": [],
   "source": [
    "    #batchsize and hidden neurons search space \n",
    "    minBH=int(XE_train.shape[0]/4)-50\n",
    "    maxBH=int(XE_train.shape[0]/4)+50\n",
    "    # search space for learning rate\n",
    "    spr={'x': hp.uniform('x', 1e-06, 1e-02)}\n",
    "    # search space for hidden neurons and batchsize\n",
    "    sphb={'x': hp.uniform('x', minBH-50,maxBH+50),'y': hp.uniform('y', minBH,maxBH)}"
   ]
  },
  {
   "cell_type": "code",
   "execution_count": 36,
   "metadata": {
    "collapsed": false
   },
   "outputs": [],
   "source": [
    "def modelRE(args):\n",
    "       x = args['x']\n",
    "       print(x)\n",
    "       model,hist=modelLSTM('E',XE_train,yE_train,hyeropt=True,hidden_neurons=10,\n",
    "                            learning_rate=float(x),epoch=100,batch_size=400,validation_split=0.30,min_delta=0.01, patience=4)\n",
    "       a=float(hist.history['val_loss'][-1])\n",
    "       return a\n",
    "   \n",
    "    \n",
    "def modelHBE(args):\n",
    "       x = args['x']\n",
    "       y = args['y']\n",
    "       print(x)\n",
    "       model,hist=modelLSTM('E',XE_train,yE_train,hyeropt=True,hidden_neurons=int(x),learning_rate= 0.00397005172386008,epoch=1000,batch_size=int(y))\n",
    "       a=float(hist.history['val_loss'][-1])\n",
    "       return a\n",
    "   \n",
    "def modelRS(args):\n",
    "       x = args['x']\n",
    "       print(x)\n",
    "       model,hist=modelLSTM('S',XS_train,yS_train,hyeropt=True,hidden_neurons=10,\n",
    "                            learning_rate=float(x),epoch=100,batch_size=400,validation_split=0.30,min_delta=0.01, patience=4)\n",
    "       a=float(hist.history['val_loss'][-1])\n",
    "       return a\n",
    "   \n",
    "    \n",
    "def modelHBS(args):\n",
    "       x = args['x']\n",
    "       y = args['y']\n",
    "       print(x)\n",
    "       model,hist=modelLSTM('S',XS_train,yS_train,hyeropt=True,hidden_neurons=int(x),learning_rate= 0.00397005172386008,epoch=1000,batch_size=int(y))\n",
    "       a=float(hist.history['val_loss'][-1])\n",
    "       return a"
   ]
  },
  {
   "cell_type": "code",
   "execution_count": 37,
   "metadata": {
    "collapsed": true
   },
   "outputs": [],
   "source": [
    "def optimize(objectiveFunction,sp):\n",
    "        trials_to_keep = Trials()\n",
    "        space=sp\n",
    "        best = fmin(objectiveFunction,\n",
    "            space=space,\n",
    "            algo=tpe.suggest,\n",
    "            max_evals=10, \n",
    "            trials = trials_to_keep)\n",
    "        return best"
   ]
  },
  {
   "cell_type": "code",
   "execution_count": 39,
   "metadata": {
    "collapsed": false
   },
   "outputs": [
    {
     "name": "stdout",
     "output_type": "stream",
     "text": [
      "hyperparams optimizationn take too long \n"
     ]
    }
   ],
   "source": [
    "    # finding best hyperparams for E Wail\n",
    "    bestlearningRateE=optimize(modelRE,spr)\n",
    "    bestBatchHiddenNeuronsE=optimize(modelHBE,sphb)\n",
    "    \n",
    "    #finding best hyperparams for S  Jean\n",
    "    bestlearningRateS=optimize(modelRS,spr)\n",
    "    bestBatchHiddenNeuronsS=optimize(modelHBS,sphb)\n",
    "    \n",
    "    \n",
    "    print(\"hyperparams optimization take too long \")\n",
    "    "
   ]
  },
  {
   "cell_type": "code",
   "execution_count": 44,
   "metadata": {
    "collapsed": false
   },
   "outputs": [
    {
     "name": "stdout",
     "output_type": "stream",
     "text": [
      "This time i will provide the best hyperparams ! \n",
      "best learning rate 0.0098\n",
      "best hidden neurons 464\n",
      "best batch size 300\n",
      "keep in mind that this is just an approximation to save time, please execute the code above to ensure good quality hyperparams  \n"
     ]
    }
   ],
   "source": [
    "print(\"This time i will provide the best hyperparams ! \")\n",
    "print(\"best learning rate\",0.0098)\n",
    "print('best hidden neurons',464)\n",
    "print('best batch size',300)\n",
    "print('keep in mind that this is just an approximation to save time, please execute the code above to ensure good quality hyperparams  ')\n"
   ]
  },
  {
   "cell_type": "markdown",
   "metadata": {},
   "source": [
    "### Training LSTM for 'Wail'"
   ]
  },
  {
   "cell_type": "code",
   "execution_count": 45,
   "metadata": {
    "collapsed": false
   },
   "outputs": [
    {
     "name": "stdout",
     "output_type": "stream",
     "text": [
      "Train on 1376 samples, validate on 590 samples\n",
      "Epoch 1/1000\n",
      "6s - loss: 4.5948 - val_loss: 3.4117\n",
      "Epoch 2/1000\n",
      "4s - loss: 3.5324 - val_loss: 2.8427\n",
      "Epoch 3/1000\n",
      "4s - loss: 2.9917 - val_loss: 2.3867\n",
      "Epoch 4/1000\n",
      "4s - loss: 2.5712 - val_loss: 2.0736\n",
      "Epoch 5/1000\n",
      "4s - loss: 2.1982 - val_loss: 1.8344\n",
      "Epoch 6/1000\n",
      "5s - loss: 1.9454 - val_loss: 1.6638\n",
      "Epoch 7/1000\n",
      "5s - loss: 1.7624 - val_loss: 1.5317\n",
      "Epoch 8/1000\n",
      "5s - loss: 1.6365 - val_loss: 1.4309\n",
      "Epoch 9/1000\n",
      "5s - loss: 1.5435 - val_loss: 1.3475\n",
      "Epoch 10/1000\n",
      "5s - loss: 1.4457 - val_loss: 1.2770\n",
      "Epoch 11/1000\n",
      "5s - loss: 1.3775 - val_loss: 1.2118\n",
      "Epoch 12/1000\n",
      "5s - loss: 1.3130 - val_loss: 1.1570\n",
      "Epoch 13/1000\n",
      "6s - loss: 1.2578 - val_loss: 1.1075\n",
      "Epoch 14/1000\n",
      "6s - loss: 1.2026 - val_loss: 1.0649\n",
      "Epoch 15/1000\n",
      "6s - loss: 1.1591 - val_loss: 1.0216\n",
      "Epoch 16/1000\n",
      "6s - loss: 1.1142 - val_loss: 0.9841\n",
      "Epoch 17/1000\n",
      "6s - loss: 1.0856 - val_loss: 0.9566\n",
      "Epoch 18/1000\n",
      "6s - loss: 1.0553 - val_loss: 0.9255\n",
      "Epoch 19/1000\n",
      "6s - loss: 1.0328 - val_loss: 0.8876\n",
      "Epoch 20/1000\n",
      "6s - loss: 1.0006 - val_loss: 0.8628\n",
      "Epoch 21/1000\n",
      "6s - loss: 0.9741 - val_loss: 0.8355\n",
      "Epoch 22/1000\n",
      "7s - loss: 0.9525 - val_loss: 0.8080\n",
      "Epoch 23/1000\n",
      "7s - loss: 0.9295 - val_loss: 0.7801\n",
      "Epoch 24/1000\n",
      "7s - loss: 0.9069 - val_loss: 0.7564\n",
      "Epoch 25/1000\n",
      "7s - loss: 0.8909 - val_loss: 0.7359\n",
      "Epoch 26/1000\n",
      "7s - loss: 0.8776 - val_loss: 0.7177\n",
      "Epoch 27/1000\n",
      "7s - loss: 0.8648 - val_loss: 0.7043\n",
      "Epoch 28/1000\n",
      "7s - loss: 0.8543 - val_loss: 0.6966\n",
      "Epoch 29/1000\n",
      "7s - loss: 0.8449 - val_loss: 0.6752\n",
      "Epoch 30/1000\n",
      "7s - loss: 0.8320 - val_loss: 0.6598\n",
      "Epoch 31/1000\n",
      "7s - loss: 0.8160 - val_loss: 0.6420\n",
      "Epoch 32/1000\n",
      "7s - loss: 0.8068 - val_loss: 0.6271\n",
      "Epoch 33/1000\n",
      "7s - loss: 0.8000 - val_loss: 0.6134\n",
      "Epoch 34/1000\n",
      "7s - loss: 0.7891 - val_loss: 0.5981\n",
      "Epoch 35/1000\n",
      "7s - loss: 0.7756 - val_loss: 0.5880\n",
      "Epoch 36/1000\n",
      "7s - loss: 0.7791 - val_loss: 0.5783\n",
      "Epoch 37/1000\n",
      "7s - loss: 0.7605 - val_loss: 0.5696\n",
      "Epoch 38/1000\n",
      "7s - loss: 0.7583 - val_loss: 0.5588\n",
      "Epoch 39/1000\n",
      "7s - loss: 0.7533 - val_loss: 0.5490\n",
      "Epoch 40/1000\n",
      "7s - loss: 0.7406 - val_loss: 0.5417\n",
      "Epoch 41/1000\n",
      "7s - loss: 0.7375 - val_loss: 0.5359\n",
      "Epoch 42/1000\n",
      "7s - loss: 0.7359 - val_loss: 0.5265\n",
      "Epoch 43/1000\n",
      "7s - loss: 0.7306 - val_loss: 0.5228\n",
      "Epoch 44/1000\n",
      "7s - loss: 0.7226 - val_loss: 0.5170\n",
      "Epoch 45/1000\n",
      "7s - loss: 0.7156 - val_loss: 0.5142\n",
      "Epoch 46/1000\n",
      "7s - loss: 0.7116 - val_loss: 0.5076\n",
      "Epoch 47/1000\n",
      "8s - loss: 0.7145 - val_loss: 0.4995\n",
      "Epoch 48/1000\n",
      "7s - loss: 0.7031 - val_loss: 0.4926\n",
      "Epoch 49/1000\n",
      "7s - loss: 0.7014 - val_loss: 0.4881\n",
      "Epoch 50/1000\n",
      "7s - loss: 0.6950 - val_loss: 0.4806\n",
      "Epoch 51/1000\n",
      "7s - loss: 0.6900 - val_loss: 0.4775\n",
      "Epoch 52/1000\n",
      "7s - loss: 0.6947 - val_loss: 0.4718\n",
      "Epoch 53/1000\n",
      "7s - loss: 0.6844 - val_loss: 0.4660\n",
      "Epoch 54/1000\n",
      "7s - loss: 0.6805 - val_loss: 0.4625\n",
      "Epoch 55/1000\n",
      "7s - loss: 0.6697 - val_loss: 0.4591\n",
      "Epoch 56/1000\n",
      "7s - loss: 0.6775 - val_loss: 0.4553\n",
      "Epoch 57/1000\n",
      "7s - loss: 0.6701 - val_loss: 0.4508\n",
      "Epoch 58/1000\n",
      "7s - loss: 0.6665 - val_loss: 0.4464\n",
      "Epoch 59/1000\n",
      "7s - loss: 0.6627 - val_loss: 0.4421\n",
      "Epoch 60/1000\n",
      "8s - loss: 0.6558 - val_loss: 0.4380\n",
      "Epoch 61/1000\n",
      "8s - loss: 0.6563 - val_loss: 0.4349\n",
      "Epoch 62/1000\n",
      "8s - loss: 0.6526 - val_loss: 0.4321\n",
      "Epoch 63/1000\n",
      "7s - loss: 0.6500 - val_loss: 0.4293\n",
      "Epoch 64/1000\n",
      "7s - loss: 0.6510 - val_loss: 0.4237\n",
      "Epoch 65/1000\n",
      "7s - loss: 0.6460 - val_loss: 0.4198\n",
      "Epoch 66/1000\n",
      "8s - loss: 0.6448 - val_loss: 0.4200\n",
      "Epoch 67/1000\n",
      "7s - loss: 0.6385 - val_loss: 0.4172\n",
      "Epoch 68/1000\n",
      "7s - loss: 0.6383 - val_loss: 0.4151\n",
      "Epoch 69/1000\n",
      "7s - loss: 0.6343 - val_loss: 0.4122\n",
      "Epoch 70/1000\n",
      "7s - loss: 0.6331 - val_loss: 0.4100\n",
      "Epoch 71/1000\n",
      "7s - loss: 0.6302 - val_loss: 0.4072\n",
      "Epoch 72/1000\n",
      "7s - loss: 0.6284 - val_loss: 0.4046\n",
      "Epoch 73/1000\n",
      "7s - loss: 0.6260 - val_loss: 0.4021\n",
      "Epoch 74/1000\n",
      "7s - loss: 0.6275 - val_loss: 0.4005\n",
      "Epoch 75/1000\n",
      "8s - loss: 0.6261 - val_loss: 0.3981\n",
      "Epoch 76/1000\n",
      "9s - loss: 0.6228 - val_loss: 0.3970\n",
      "Epoch 77/1000\n",
      "8s - loss: 0.6186 - val_loss: 0.3954\n",
      "Epoch 78/1000\n",
      "8s - loss: 0.6154 - val_loss: 0.3923\n",
      "Epoch 79/1000\n",
      "8s - loss: 0.6168 - val_loss: 0.3905\n",
      "Epoch 80/1000\n",
      "8s - loss: 0.6144 - val_loss: 0.3888\n",
      "Epoch 81/1000\n",
      "8s - loss: 0.6104 - val_loss: 0.3871\n",
      "Epoch 82/1000\n",
      "7s - loss: 0.6133 - val_loss: 0.3859\n",
      "Epoch 83/1000\n",
      "7s - loss: 0.6143 - val_loss: 0.3845\n",
      "Epoch 84/1000\n",
      "7s - loss: 0.6090 - val_loss: 0.3826\n",
      "Epoch 85/1000\n",
      "7s - loss: 0.6043 - val_loss: 0.3811\n",
      "Epoch 86/1000\n",
      "7s - loss: 0.6005 - val_loss: 0.3790\n",
      "Epoch 87/1000\n",
      "8s - loss: 0.6030 - val_loss: 0.3772\n",
      "Epoch 88/1000\n",
      "7s - loss: 0.6027 - val_loss: 0.3764\n",
      "Epoch 00087: early stopping\n",
      "208/208 [==============================] - 0s     \b\b\b\b\b\b\b\b\b\b\b\b\b\b\b\b\b\b\b\b\b\b\b\b\b\b\b\b\b\b\b\b\b\b\b\b\b\b\b\b\b\b\b\b\b\b\b\b\b\b\b\b\b\b\b\b\b\b\b\b\b\b\b\b\b\b\b\b\b\b\b\b\b\b\b\b\b\b\b\b\b\b\b\b\b\b\b\b\b\b\b\b\b\b\b\b\b\b\b\b\b\b\b\b\b\b\b\b\b\b\b\b\b\b\b\b\b\b\b\b\b\b\b\b\b\b\b\b\b\b\b\b\b\b\b\b\b\b\b\b\b\b\b\b\b\b\b\b\b\b\b\b\b\b\b\b\b\b\b\b\b\b\b\b\b\b\b\b\b\b\b\b\b\b\b\b\b\b\b\b\b\b\b\b\b\b\b\b\b\b\b\b\b\b\b\b\b\b\b\b\b\b\b\b\b\b\b\b\b\b\b\b\b\b\b\b\b\b\b\b\b\b\b\b\b\b\b\b\b\b\b\b\b\b\b\b\b\b\b\b\b\b\b\b\b\b\b\b\b\b\b\b\b\b\b\b\b\b\b\b\b\b\b\b\b\b\b\b\b\b\b\b\b\b\b\b\b\b\b\b\b\b\b\b\b\b\b\b\b\b\b\b\b\b\b\b\b\b\b\b\n"
     ]
    },
    {
     "data": {
      "text/plain": [
       "0.5333800545105567"
      ]
     },
     "execution_count": 45,
     "metadata": {},
     "output_type": "execute_result"
    }
   ],
   "source": [
    "modelE=modelLSTM('E',XE_train,yE_train,learning_rate=0.0098, hidden_neurons=464,epoch=1000,batch_size=300,validation_split=0.30,hyeropt=False\n",
    "                 ,in_out_neurons=418)\n",
    "modelE[0].evaluate(XE_test,yE_test)\n",
    "    \n",
    "   "
   ]
  },
  {
   "cell_type": "markdown",
   "metadata": {},
   "source": [
    "### Training LSTM for 'Jean'"
   ]
  },
  {
   "cell_type": "code",
   "execution_count": 46,
   "metadata": {
    "collapsed": false
   },
   "outputs": [
    {
     "name": "stdout",
     "output_type": "stream",
     "text": [
      "Train on 1376 samples, validate on 590 samples\n",
      "Epoch 1/1000\n",
      "9s - loss: 4.5819 - val_loss: 3.4351\n",
      "Epoch 2/1000\n",
      "7s - loss: 3.5428 - val_loss: 2.8509\n",
      "Epoch 3/1000\n",
      "7s - loss: 3.0207 - val_loss: 2.3964\n",
      "Epoch 4/1000\n",
      "7s - loss: 2.5908 - val_loss: 2.0959\n",
      "Epoch 5/1000\n",
      "7s - loss: 2.2193 - val_loss: 1.8521\n",
      "Epoch 6/1000\n",
      "7s - loss: 1.9584 - val_loss: 1.6608\n",
      "Epoch 7/1000\n",
      "7s - loss: 1.7725 - val_loss: 1.5375\n",
      "Epoch 8/1000\n",
      "8s - loss: 1.6351 - val_loss: 1.4300\n",
      "Epoch 9/1000\n",
      "7s - loss: 1.5285 - val_loss: 1.3406\n",
      "Epoch 10/1000\n",
      "7s - loss: 1.4458 - val_loss: 1.2679\n",
      "Epoch 11/1000\n",
      "7s - loss: 1.3611 - val_loss: 1.2015\n",
      "Epoch 12/1000\n",
      "7s - loss: 1.3005 - val_loss: 1.1452\n",
      "Epoch 13/1000\n",
      "7s - loss: 1.2438 - val_loss: 1.0930\n",
      "Epoch 14/1000\n",
      "7s - loss: 1.1967 - val_loss: 1.0522\n",
      "Epoch 15/1000\n",
      "7s - loss: 1.1549 - val_loss: 1.0195\n",
      "Epoch 16/1000\n",
      "7s - loss: 1.1194 - val_loss: 0.9863\n",
      "Epoch 17/1000\n",
      "7s - loss: 1.0889 - val_loss: 0.9472\n",
      "Epoch 18/1000\n",
      "7s - loss: 1.0536 - val_loss: 0.9152\n",
      "Epoch 19/1000\n",
      "7s - loss: 1.0258 - val_loss: 0.8814\n",
      "Epoch 20/1000\n",
      "7s - loss: 0.9961 - val_loss: 0.8512\n",
      "Epoch 21/1000\n",
      "7s - loss: 0.9683 - val_loss: 0.8214\n",
      "Epoch 22/1000\n",
      "7s - loss: 0.9445 - val_loss: 0.7916\n",
      "Epoch 23/1000\n",
      "7s - loss: 0.9193 - val_loss: 0.7729\n",
      "Epoch 24/1000\n",
      "7s - loss: 0.9127 - val_loss: 0.7504\n",
      "Epoch 25/1000\n",
      "7s - loss: 0.8915 - val_loss: 0.7236\n",
      "Epoch 26/1000\n",
      "7s - loss: 0.8760 - val_loss: 0.7078\n",
      "Epoch 27/1000\n",
      "7s - loss: 0.8581 - val_loss: 0.6979\n",
      "Epoch 28/1000\n",
      "7s - loss: 0.8555 - val_loss: 0.6877\n",
      "Epoch 29/1000\n",
      "7s - loss: 0.8427 - val_loss: 0.6616\n",
      "Epoch 30/1000\n",
      "7s - loss: 0.8301 - val_loss: 0.6487\n",
      "Epoch 31/1000\n",
      "7s - loss: 0.8142 - val_loss: 0.6295\n",
      "Epoch 32/1000\n",
      "7s - loss: 0.8015 - val_loss: 0.6142\n",
      "Epoch 33/1000\n",
      "7s - loss: 0.7883 - val_loss: 0.6018\n",
      "Epoch 34/1000\n",
      "7s - loss: 0.7809 - val_loss: 0.5870\n",
      "Epoch 35/1000\n",
      "7s - loss: 0.7735 - val_loss: 0.5750\n",
      "Epoch 36/1000\n",
      "7s - loss: 0.7678 - val_loss: 0.5656\n",
      "Epoch 37/1000\n",
      "7s - loss: 0.7564 - val_loss: 0.5559\n",
      "Epoch 38/1000\n",
      "7s - loss: 0.7491 - val_loss: 0.5468\n",
      "Epoch 39/1000\n",
      "7s - loss: 0.7405 - val_loss: 0.5383\n",
      "Epoch 40/1000\n",
      "7s - loss: 0.7370 - val_loss: 0.5325\n",
      "Epoch 41/1000\n",
      "7s - loss: 0.7342 - val_loss: 0.5287\n",
      "Epoch 42/1000\n",
      "7s - loss: 0.7281 - val_loss: 0.5174\n",
      "Epoch 43/1000\n",
      "7s - loss: 0.7181 - val_loss: 0.5104\n",
      "Epoch 44/1000\n",
      "8s - loss: 0.7119 - val_loss: 0.5035\n",
      "Epoch 45/1000\n",
      "7s - loss: 0.7015 - val_loss: 0.4976\n",
      "Epoch 46/1000\n",
      "7s - loss: 0.7048 - val_loss: 0.4904\n",
      "Epoch 47/1000\n",
      "8s - loss: 0.6955 - val_loss: 0.4825\n",
      "Epoch 48/1000\n",
      "8s - loss: 0.6957 - val_loss: 0.4783\n",
      "Epoch 49/1000\n",
      "8s - loss: 0.6886 - val_loss: 0.4725\n",
      "Epoch 50/1000\n",
      "8s - loss: 0.6865 - val_loss: 0.4678\n",
      "Epoch 51/1000\n",
      "8s - loss: 0.6853 - val_loss: 0.4649\n",
      "Epoch 52/1000\n",
      "8s - loss: 0.6762 - val_loss: 0.4605\n",
      "Epoch 53/1000\n",
      "7s - loss: 0.6787 - val_loss: 0.4560\n",
      "Epoch 54/1000\n",
      "8s - loss: 0.6715 - val_loss: 0.4522\n",
      "Epoch 55/1000\n",
      "7s - loss: 0.6642 - val_loss: 0.4481\n",
      "Epoch 56/1000\n",
      "7s - loss: 0.6620 - val_loss: 0.4463\n",
      "Epoch 57/1000\n",
      "7s - loss: 0.6598 - val_loss: 0.4415\n",
      "Epoch 58/1000\n",
      "7s - loss: 0.6583 - val_loss: 0.4360\n",
      "Epoch 59/1000\n",
      "7s - loss: 0.6540 - val_loss: 0.4327\n",
      "Epoch 60/1000\n",
      "7s - loss: 0.6556 - val_loss: 0.4319\n",
      "Epoch 61/1000\n",
      "7s - loss: 0.6565 - val_loss: 0.4313\n",
      "Epoch 62/1000\n",
      "8s - loss: 0.6600 - val_loss: 0.4299\n",
      "Epoch 63/1000\n",
      "8s - loss: 0.6609 - val_loss: 0.4266\n",
      "Epoch 64/1000\n",
      "8s - loss: 0.6545 - val_loss: 0.4263\n",
      "Epoch 65/1000\n",
      "8s - loss: 0.6538 - val_loss: 0.4260\n",
      "Epoch 66/1000\n",
      "7s - loss: 0.6523 - val_loss: 0.4221\n",
      "Epoch 67/1000\n",
      "7s - loss: 0.6479 - val_loss: 0.4193\n",
      "Epoch 68/1000\n",
      "7s - loss: 0.6473 - val_loss: 0.4149\n",
      "Epoch 69/1000\n",
      "7s - loss: 0.6391 - val_loss: 0.4118\n",
      "Epoch 70/1000\n",
      "7s - loss: 0.6325 - val_loss: 0.4093\n",
      "Epoch 71/1000\n",
      "7s - loss: 0.6345 - val_loss: 0.4067\n",
      "Epoch 72/1000\n",
      "7s - loss: 0.6293 - val_loss: 0.4035\n",
      "Epoch 73/1000\n",
      "7s - loss: 0.6312 - val_loss: 0.4014\n",
      "Epoch 74/1000\n",
      "7s - loss: 0.6253 - val_loss: 0.3988\n",
      "Epoch 75/1000\n",
      "8s - loss: 0.6248 - val_loss: 0.3969\n",
      "Epoch 76/1000\n",
      "7s - loss: 0.6204 - val_loss: 0.3944\n",
      "Epoch 77/1000\n",
      "7s - loss: 0.6189 - val_loss: 0.3941\n",
      "Epoch 78/1000\n",
      "7s - loss: 0.6197 - val_loss: 0.3917\n",
      "Epoch 79/1000\n",
      "7s - loss: 0.6136 - val_loss: 0.3913\n",
      "Epoch 80/1000\n",
      "7s - loss: 0.6115 - val_loss: 0.3892\n",
      "Epoch 81/1000\n",
      "7s - loss: 0.6111 - val_loss: 0.3884\n",
      "Epoch 82/1000\n",
      "7s - loss: 0.6099 - val_loss: 0.3854\n",
      "Epoch 00081: early stopping\n",
      "208/208 [==============================] - 0s     \b\b\b\b\b\b\b\b\b\b\b\b\b\b\b\b\b\b\b\b\b\b\b\b\b\b\b\b\b\b\b\b\b\b\b\b\b\b\b\b\b\b\b\b\b\b\b\b\b\b\b\b\b\b\b\b\b\b\b\b\b\b\b\b\b\b\b\b\b\b\b\b\b\b\b\b\b\b\b\b\b\b\b\b\b\b\b\b\b\b\b\b\b\b\b\b\b\b\b\b\b\b\b\b\b\b\b\b\b\b\b\b\b\b\b\b\b\b\b\b\b\b\b\b\b\b\b\b\b\b\b\b\b\b\b\b\b\b\b\b\b\b\b\b\b\b\b\b\b\b\b\b\b\b\b\b\b\b\b\b\b\b\b\b\b\b\b\b\b\b\b\b\b\b\b\b\b\b\b\b\b\b\b\b\b\b\b\b\b\b\b\b\b\b\b\b\b\b\b\b\b\b\b\b\b\b\b\b\b\b\b\b\b\b\b\b\b\b\b\b\b\b\b\b\b\b\b\b\b\b\b\b\b\b\b\b\b\b\b\b\b\b\b\b\b\b\b\b\b\b\b\b\b\b\b\b\b\b\b\b\b\b\b\b\b\b\b\b\b\b\b\b\b\b\b\b\b\b\b\b\b\b\b\b\b\b\b\b\b\b\b\b\b\b\b\b\b\b\b\b\n"
     ]
    },
    {
     "data": {
      "text/plain": [
       "0.54620734544900751"
      ]
     },
     "execution_count": 46,
     "metadata": {},
     "output_type": "execute_result"
    }
   ],
   "source": [
    "modelS=modelLSTM('S',XS_train,yS_train,learning_rate= 0.0098, hidden_neurons=464,epoch=1000,batch_size=300,validation_split=0.30,hyeropt=False\n",
    "                 ,in_out_neurons=418)\n",
    "    \n",
    "modelS[0].evaluate(XS_test,yS_test)"
   ]
  },
  {
   "cell_type": "code",
   "execution_count": 47,
   "metadata": {
    "collapsed": true
   },
   "outputs": [],
   "source": [
    "    # score for model E on S\n",
    "    predES= modelE[0].predict(XS_train)\n",
    "    # score for model S on E\n",
    "    predSE=modelS[0].predict(XE_train)  "
   ]
  },
  {
   "cell_type": "code",
   "execution_count": 48,
   "metadata": {
    "collapsed": true
   },
   "outputs": [],
   "source": [
    "    # Apply filters  and test them \n",
    "    ES=filters(predES)\n",
    "    SE=filters(predSE)   "
   ]
  },
  {
   "cell_type": "code",
   "execution_count": 49,
   "metadata": {
    "collapsed": false
   },
   "outputs": [
    {
     "name": "stdout",
     "output_type": "stream",
     "text": [
      "[ 2101.62231445  2494.04174805  2015.44543457 ...,  1203.16235352\n",
      "  1076.07470703  1233.6072998 ]\n"
     ]
    }
   ],
   "source": [
    "print(ES)"
   ]
  }
 ],
 "metadata": {
  "kernelspec": {
   "display_name": "Python 3",
   "language": "python",
   "name": "python3"
  },
  "language_info": {
   "codemirror_mode": {
    "name": "ipython",
    "version": 3
   },
   "file_extension": ".py",
   "mimetype": "text/x-python",
   "name": "python",
   "nbconvert_exporter": "python",
   "pygments_lexer": "ipython3",
   "version": "3.5.2"
  }
 },
 "nbformat": 4,
 "nbformat_minor": 2
}
