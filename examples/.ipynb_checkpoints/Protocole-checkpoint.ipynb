{
 "cells": [
  {
   "cell_type": "markdown",
   "metadata": {
    "slideshow": {
     "slide_type": "fragment"
    }
   },
   "source": [
    "# Social touch protocol"
   ]
  },
  {
   "cell_type": "markdown",
   "metadata": {},
   "source": [
    "## 1.  Motivation"
   ]
  },
  {
   "cell_type": "markdown",
   "metadata": {},
   "source": [
    "#### The purpose of this preliminary study is to extract relevant informations about social touch gestures in each video of SATE (social affective touch expression) database. for instance:\n",
    " + #### Touch zones involved ( arm, chest, back,...).\n",
    " + #### Type of touch (stroke, tap, grab, hold,...).\n",
    " + #### Initiative (  subject whom starts the interaction).\n",
    " + #### Valence/Arousal.\n",
    "\n",
    "\n",
    "#### The first step, is to skim all social touch interactions videos and annotate them based on the variables described below (touch zones,...) and the touch vocabulary defined in section 2. Then, analyze the annotations data to decide which device to use and where the sensors will be placed in human body (zones)\n",
    " "
   ]
  },
  {
   "cell_type": "markdown",
   "metadata": {},
   "source": [
    "### *Protocol of the intended experiment*"
   ]
  },
  {
   "cell_type": "markdown",
   "metadata": {},
   "source": [
    "<img src=\"data/proto.jpg\" width=\"80%\"> "
   ]
  },
  {
   "cell_type": "markdown",
   "metadata": {},
   "source": [
    "## 2. Body parts and annotation"
   ]
  },
  {
   "cell_type": "markdown",
   "metadata": {},
   "source": [
    "| Number        | Name          |\n",
    "| ------------- |-------------| \n",
    "| 0             | hand         | \n",
    "| 1             | forearm        | \n",
    "| 2             | arm           | \n",
    "| 3             | shoulder      | \n",
    "| 4             | chest         | \n",
    "| 5             | abs           | \n",
    "| 6             | lower leg     | \n",
    "| 7             | upper back    | \n",
    "| 8             | lower back    | \n"
   ]
  },
  {
   "cell_type": "markdown",
   "metadata": {},
   "source": [
    "<img src=\"body.jpg\" width=\"40%\"> "
   ]
  },
  {
   "cell_type": "markdown",
   "metadata": {},
   "source": [
    "## 3. Exploratory analysis on ST data"
   ]
  },
  {
   "cell_type": "code",
   "execution_count": 3,
   "metadata": {},
   "outputs": [],
   "source": [
    "import pandas as pd\n",
    "from IPython.display import HTML\n",
    "import numpy as np\n",
    "import matplotlib.pyplot as plt\n",
    "def plot_pie(data):\n",
    "    sizes=np.mean(data,axis=0)\n",
    "    label=['hand','forearm','arm','shoulder','chest','abs','l_leg','up_back','l_back']\n",
    "    fig1, ax1 = plt.subplots()\n",
    "    ax1.pie(sizes, labels=label, autopct='%1.1f%%',\n",
    "        shadow=True, startangle=90)\n",
    "    ax1.axis('equal')  # Equal aspect ratio ensures that pie is drawn as a circle.\n",
    "    plt.show()\n",
    "\n",
    "df=pd.read_csv('data/Annot.csv')\n"
   ]
  },
  {
   "cell_type": "code",
   "execution_count": 4,
   "metadata": {},
   "outputs": [
    {
     "data": {
      "text/html": [
       "\n",
       "<div align=\"middle\">\n",
       "<video width=\"80%\" controls>\n",
       "      <source src=\"data/5.mp4\">\n",
       "</video></div>"
      ],
      "text/plain": [
       "<IPython.core.display.HTML object>"
      ]
     },
     "execution_count": 4,
     "metadata": {},
     "output_type": "execute_result"
    }
   ],
   "source": [
    "HTML(\"\"\"\n",
    "<div align=\"middle\">\n",
    "<video width=\"80%\" controls>\n",
    "      <source src=\"data/5.mp4\">\n",
    "</video></div>\"\"\")"
   ]
  },
  {
   "cell_type": "code",
   "execution_count": 5,
   "metadata": {},
   "outputs": [
    {
     "data": {
      "text/html": [
       "<div>\n",
       "<style scoped>\n",
       "    .dataframe tbody tr th:only-of-type {\n",
       "        vertical-align: middle;\n",
       "    }\n",
       "\n",
       "    .dataframe tbody tr th {\n",
       "        vertical-align: top;\n",
       "    }\n",
       "\n",
       "    .dataframe thead th {\n",
       "        text-align: right;\n",
       "    }\n",
       "</style>\n",
       "<table border=\"1\" class=\"dataframe\">\n",
       "  <thead>\n",
       "    <tr style=\"text-align: right;\">\n",
       "      <th></th>\n",
       "      <th>VIDEO_NUM</th>\n",
       "      <th>PAIR</th>\n",
       "      <th>INITIATIVE_F</th>\n",
       "      <th>INITIATIVE_M</th>\n",
       "      <th>F0</th>\n",
       "      <th>F1</th>\n",
       "      <th>F2</th>\n",
       "      <th>F3</th>\n",
       "      <th>F4</th>\n",
       "      <th>F5</th>\n",
       "      <th>...</th>\n",
       "      <th>M2</th>\n",
       "      <th>M3</th>\n",
       "      <th>M4</th>\n",
       "      <th>M5</th>\n",
       "      <th>M6</th>\n",
       "      <th>M7</th>\n",
       "      <th>M8</th>\n",
       "      <th>ACTION</th>\n",
       "      <th>STIMILUS_NAME</th>\n",
       "      <th>VALENCE</th>\n",
       "    </tr>\n",
       "  </thead>\n",
       "  <tbody>\n",
       "    <tr>\n",
       "      <th>0</th>\n",
       "      <td>1</td>\n",
       "      <td>1</td>\n",
       "      <td>1</td>\n",
       "      <td>1</td>\n",
       "      <td>1</td>\n",
       "      <td>1</td>\n",
       "      <td>1</td>\n",
       "      <td>0</td>\n",
       "      <td>1</td>\n",
       "      <td>1</td>\n",
       "      <td>...</td>\n",
       "      <td>1</td>\n",
       "      <td>0</td>\n",
       "      <td>1</td>\n",
       "      <td>1</td>\n",
       "      <td>1</td>\n",
       "      <td>1</td>\n",
       "      <td>0</td>\n",
       "      <td>hug</td>\n",
       "      <td>Hug1_p</td>\n",
       "      <td>positive</td>\n",
       "    </tr>\n",
       "    <tr>\n",
       "      <th>1</th>\n",
       "      <td>2</td>\n",
       "      <td>1</td>\n",
       "      <td>0</td>\n",
       "      <td>1</td>\n",
       "      <td>1</td>\n",
       "      <td>1</td>\n",
       "      <td>1</td>\n",
       "      <td>0</td>\n",
       "      <td>1</td>\n",
       "      <td>1</td>\n",
       "      <td>...</td>\n",
       "      <td>1</td>\n",
       "      <td>0</td>\n",
       "      <td>1</td>\n",
       "      <td>1</td>\n",
       "      <td>1</td>\n",
       "      <td>1</td>\n",
       "      <td>1</td>\n",
       "      <td>hug</td>\n",
       "      <td>Hug2_p</td>\n",
       "      <td>positive</td>\n",
       "    </tr>\n",
       "    <tr>\n",
       "      <th>2</th>\n",
       "      <td>3</td>\n",
       "      <td>1</td>\n",
       "      <td>0</td>\n",
       "      <td>1</td>\n",
       "      <td>1</td>\n",
       "      <td>1</td>\n",
       "      <td>1</td>\n",
       "      <td>1</td>\n",
       "      <td>1</td>\n",
       "      <td>1</td>\n",
       "      <td>...</td>\n",
       "      <td>1</td>\n",
       "      <td>0</td>\n",
       "      <td>1</td>\n",
       "      <td>1</td>\n",
       "      <td>1</td>\n",
       "      <td>1</td>\n",
       "      <td>0</td>\n",
       "      <td>Hug</td>\n",
       "      <td>Hug3_p</td>\n",
       "      <td>Positive</td>\n",
       "    </tr>\n",
       "    <tr>\n",
       "      <th>3</th>\n",
       "      <td>4</td>\n",
       "      <td>1</td>\n",
       "      <td>1</td>\n",
       "      <td>0</td>\n",
       "      <td>1</td>\n",
       "      <td>0</td>\n",
       "      <td>0</td>\n",
       "      <td>0</td>\n",
       "      <td>0</td>\n",
       "      <td>1</td>\n",
       "      <td>...</td>\n",
       "      <td>1</td>\n",
       "      <td>1</td>\n",
       "      <td>0</td>\n",
       "      <td>1</td>\n",
       "      <td>0</td>\n",
       "      <td>0</td>\n",
       "      <td>0</td>\n",
       "      <td>Stroke</td>\n",
       "      <td>Str1_p</td>\n",
       "      <td>Positive</td>\n",
       "    </tr>\n",
       "    <tr>\n",
       "      <th>4</th>\n",
       "      <td>5</td>\n",
       "      <td>1</td>\n",
       "      <td>1</td>\n",
       "      <td>0</td>\n",
       "      <td>1</td>\n",
       "      <td>0</td>\n",
       "      <td>0</td>\n",
       "      <td>0</td>\n",
       "      <td>0</td>\n",
       "      <td>0</td>\n",
       "      <td>...</td>\n",
       "      <td>1</td>\n",
       "      <td>1</td>\n",
       "      <td>0</td>\n",
       "      <td>0</td>\n",
       "      <td>0</td>\n",
       "      <td>0</td>\n",
       "      <td>0</td>\n",
       "      <td>Stroke</td>\n",
       "      <td>Str2_p</td>\n",
       "      <td>Positive</td>\n",
       "    </tr>\n",
       "  </tbody>\n",
       "</table>\n",
       "<p>5 rows × 25 columns</p>\n",
       "</div>"
      ],
      "text/plain": [
       "   VIDEO_NUM  PAIR  INITIATIVE_F  INITIATIVE_M  F0  F1  F2  F3  F4  F5  \\\n",
       "0          1     1             1             1   1   1   1   0   1   1   \n",
       "1          2     1             0             1   1   1   1   0   1   1   \n",
       "2          3     1             0             1   1   1   1   1   1   1   \n",
       "3          4     1             1             0   1   0   0   0   0   1   \n",
       "4          5     1             1             0   1   0   0   0   0   0   \n",
       "\n",
       "     ...     M2  M3  M4  M5  M6  M7  M8  ACTION  STIMILUS_NAME   VALENCE  \n",
       "0    ...      1   0   1   1   1   1   0     hug         Hug1_p  positive  \n",
       "1    ...      1   0   1   1   1   1   1     hug         Hug2_p  positive  \n",
       "2    ...      1   0   1   1   1   1   0     Hug         Hug3_p  Positive  \n",
       "3    ...      1   1   0   1   0   0   0  Stroke         Str1_p  Positive  \n",
       "4    ...      1   1   0   0   0   0   0  Stroke         Str2_p  Positive  \n",
       "\n",
       "[5 rows x 25 columns]"
      ]
     },
     "execution_count": 5,
     "metadata": {},
     "output_type": "execute_result"
    }
   ],
   "source": [
    "df.head()"
   ]
  },
  {
   "cell_type": "markdown",
   "metadata": {},
   "source": [
    "## Variables definition "
   ]
  },
  {
   "cell_type": "markdown",
   "metadata": {},
   "source": [
    "#### In this clip (VIDEO_NUM=5) the F participant is stroking the M participant shoulder and arm.\n",
    "#### The activated zones are:\n",
    "+ #### F0=1 (female hand)\n",
    "+ #### M2=1 (male arm), M3=1(male shoulder)"
   ]
  },
  {
   "cell_type": "markdown",
   "metadata": {},
   "source": [
    "## Exploratory Analysis"
   ]
  },
  {
   "cell_type": "code",
   "execution_count": 6,
   "metadata": {},
   "outputs": [
    {
     "name": "stdout",
     "output_type": "stream",
     "text": [
      "(39, 25)  #videos and #attributes\n",
      "########### touch action ######################\n",
      "[' NwE' 'Grip' 'Hold' 'Hug' 'NwE' 'Shake' 'Slap' 'Stroke' 'Tap' 'hug']\n",
      "########### Variations of touch actions ######################\n",
      "['Gri1_n' 'Hold1_p' 'Hug1_p' 'Hug2_p' 'Hug3_p' 'Nudg1_n' 'Nudg2_n'\n",
      " 'Sha2_n' 'Slap1_n' 'Str1_p' 'Str2_p' 'Tap1_neu' 'sha1_n']\n"
     ]
    }
   ],
   "source": [
    "data=df.values\n",
    "print(data.shape,\" #videos and #attributes\")\n",
    "print(\"########### touch action ######################\")\n",
    "print(np.unique(data[:,22]))\n",
    "print(\"########### Variations of touch actions ######################\")\n",
    "print(np.unique(data[:,23]))\n"
   ]
  },
  {
   "cell_type": "code",
   "execution_count": 7,
   "metadata": {},
   "outputs": [
    {
     "name": "stdout",
     "output_type": "stream",
     "text": [
      "Number of each action (NwE is nudge with elbow)\n"
     ]
    },
    {
     "data": {
      "image/png": "[encoded data removed]",
      "text/plain": [
       "<matplotlib.figure.Figure at 0x7f675c359ba8>"
      ]
     },
     "metadata": {},
     "output_type": "display_data"
    }
   ],
   "source": [
    "plt.hist(data[:,22],bins=50)\n",
    "print(\"Number of each action (NwE is nudge with elbow)\")"
   ]
  },
  {
   "cell_type": "code",
   "execution_count": 8,
   "metadata": {},
   "outputs": [
    {
     "name": "stdout",
     "output_type": "stream",
     "text": [
      "female are likely to be touched/touch zones: \n"
     ]
    },
    {
     "data": {
      "image/png": "[encoded data removed]",
      "text/plain": [
       "<matplotlib.figure.Figure at 0x7f67250a49b0>"
      ]
     },
     "metadata": {},
     "output_type": "display_data"
    }
   ],
   "source": [
    "print(\"female are likely to be touched/touch zones: \")\n",
    "plot_pie(data[:,4:13])\n"
   ]
  },
  {
   "cell_type": "code",
   "execution_count": 9,
   "metadata": {},
   "outputs": [
    {
     "name": "stdout",
     "output_type": "stream",
     "text": [
      "Male are likely to be touched/touch zones: \n"
     ]
    },
    {
     "data": {
      "image/png": "[encoded data removed]",
      "text/plain": [
       "<matplotlib.figure.Figure at 0x7f6722f3c208>"
      ]
     },
     "metadata": {},
     "output_type": "display_data"
    }
   ],
   "source": [
    "print(\"Male are likely to be touched/touch zones: \")\n",
    "plot_pie(data[:,13:22])"
   ]
  },
  {
   "cell_type": "markdown",
   "metadata": {},
   "source": [
    "### Tree-based feature selection"
   ]
  },
  {
   "cell_type": "code",
   "execution_count": 126,
   "metadata": {},
   "outputs": [
    {
     "name": "stdout",
     "output_type": "stream",
     "text": [
      "['positive' 'positive' 'Positive' 'Positive' 'Positive' 'Positive'\n",
      " 'Neutral' 'Negative' 'Negative' 'Negative' 'Negative' 'Negative'\n",
      " 'Negative' 'positive' 'positive' 'Positive' 'Positive' 'Positive'\n",
      " 'Positive' 'Neutral' 'Negative' 'Negative' 'Negative' 'Negative'\n",
      " 'Negative' 'Negative' 'positive' 'positive' 'Positive' 'Positive'\n",
      " 'Positive' 'Positive' 'Neutral' 'Negative' 'Negative' 'Negative'\n",
      " 'Negative' 'Negative' 'Negative']\n",
      "Xshape (39, 18)\n",
      "yshape (39,)\n"
     ]
    }
   ],
   "source": [
    "from sklearn.ensemble import ExtraTreesClassifier\n",
    "X=data[:,4:22]\n",
    "y=data[:,-1]\n",
    "print(y)\n",
    "y=pd.get_dummies(y).values\n",
    "y=np.argmax(y,axis=1)\n",
    "print(\"Xshape\",X.shape)\n",
    "print(\"yshape\",y.shape)\n",
    "\n"
   ]
  },
  {
   "cell_type": "code",
   "execution_count": 130,
   "metadata": {},
   "outputs": [],
   "source": [
    "importance=[]\n",
    "for i in range(1000):\n",
    "    clf = ExtraTreesClassifier()\n",
    "    clf = clf.fit(X, y)\n",
    "    importance.append(clf.feature_importances_)  \n"
   ]
  },
  {
   "cell_type": "code",
   "execution_count": 131,
   "metadata": {},
   "outputs": [
    {
     "name": "stdout",
     "output_type": "stream",
     "text": [
      "[0.12404188 0.05741954 0.02690408 0.08033569 0.0389011  0.08607008\n",
      " 0.00905337 0.03829217 0.03707486 0.06130875 0.03656767 0.08882707\n",
      " 0.13094124 0.03949203 0.00960048 0.0093049  0.11953497 0.00633011]\n"
     ]
    }
   ],
   "source": [
    "mean_importance=np.mean(importance,axis=0)\n",
    "print(mean_importance)"
   ]
  },
  {
   "cell_type": "code",
   "execution_count": 132,
   "metadata": {},
   "outputs": [
    {
     "data": {
      "image/png": "[encoded data removed]",
      "text/plain": [
       "<matplotlib.figure.Figure at 0x7f670f8c21d0>"
      ]
     },
     "metadata": {},
     "output_type": "display_data"
    }
   ],
   "source": [
    "x = np.arange(18)\n",
    "plt.bar(x, mean_importance)\n",
    "plt.xticks(x, df.columns[4:22])\n",
    "plt.xlabel(\"Body part involved Female/Male\")\n",
    "plt.ylabel(\"importance for classification\")\n",
    "plt.show()"
   ]
  },
  {
   "cell_type": "markdown",
   "metadata": {},
   "source": []
  },
  {
   "cell_type": "markdown",
   "metadata": {},
   "source": [
    "## 4. Conclusion"
   ]
  },
  {
   "cell_type": "code",
   "execution_count": null,
   "metadata": {},
   "outputs": [],
   "source": []
  }
 ],
 "metadata": {
  "kernelspec": {
   "display_name": "Python 3",
   "language": "python",
   "name": "python3"
  },
  "language_info": {
   "codemirror_mode": {
    "name": "ipython",
    "version": 3
   },
   "file_extension": ".py",
   "mimetype": "text/x-python",
   "name": "python",
   "nbconvert_exporter": "python",
   "pygments_lexer": "ipython3",
   "version": "3.6.4"
  }
 },
 "nbformat": 4,
 "nbformat_minor": 2
}
